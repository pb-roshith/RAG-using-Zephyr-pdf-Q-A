{
 "nbformat": 4,
 "nbformat_minor": 0,
 "metadata": {
  "colab": {
   "provenance": [],
   "gpuType": "V28"
  },
  "kernelspec": {
   "name": "python3",
   "display_name": "Python 3"
  },
  "language_info": {
   "name": "python"
  },
  "accelerator": "TPU"
 },
 "cells": [
  {
   "cell_type": "code",
   "execution_count": null,
   "metadata": {
    "colab": {
     "base_uri": "https://localhost:8080/"
    },
    "id": "nDpekVfymxCe",
    "outputId": "2acf3e8f-9a20-4b32-fb4e-9f776450200f"
   },
   "outputs": [
    {
     "output_type": "stream",
     "name": "stdout",
     "text": [
      "Requirement already satisfied: chromadb in /usr/local/lib/python3.11/dist-packages (1.0.7)\n",
      "Requirement already satisfied: transformers in /usr/local/lib/python3.11/dist-packages (4.51.3)\n",
      "Requirement already satisfied: accelerate in /usr/local/lib/python3.11/dist-packages (1.6.0)\n",
      "Requirement already satisfied: sentence-transformers in /usr/local/lib/python3.11/dist-packages (4.1.0)\n",
      "Requirement already satisfied: PyMuPDF in /usr/local/lib/python3.11/dist-packages (1.25.5)\n",
      "Requirement already satisfied: langchain in /usr/local/lib/python3.11/dist-packages (0.3.25)\n",
      "Requirement already satisfied: build>=1.0.3 in /usr/local/lib/python3.11/dist-packages (from chromadb) (1.2.2.post1)\n",
      "Requirement already satisfied: pydantic>=1.9 in /usr/local/lib/python3.11/dist-packages (from chromadb) (2.11.3)\n",
      "Requirement already satisfied: chroma-hnswlib==0.7.6 in /usr/local/lib/python3.11/dist-packages (from chromadb) (0.7.6)\n",
      "Requirement already satisfied: fastapi==0.115.9 in /usr/local/lib/python3.11/dist-packages (from chromadb) (0.115.9)\n",
      "Requirement already satisfied: uvicorn>=0.18.3 in /usr/local/lib/python3.11/dist-packages (from uvicorn[standard]>=0.18.3->chromadb) (0.34.2)\n",
      "Requirement already satisfied: numpy>=1.22.5 in /usr/local/lib/python3.11/dist-packages (from chromadb) (2.0.2)\n",
      "Requirement already satisfied: posthog>=2.4.0 in /usr/local/lib/python3.11/dist-packages (from chromadb) (4.0.1)\n",
      "Requirement already satisfied: typing-extensions>=4.5.0 in /usr/local/lib/python3.11/dist-packages (from chromadb) (4.13.2)\n",
      "Requirement already satisfied: onnxruntime>=1.14.1 in /usr/local/lib/python3.11/dist-packages (from chromadb) (1.21.1)\n",
      "Requirement already satisfied: opentelemetry-api>=1.2.0 in /usr/local/lib/python3.11/dist-packages (from chromadb) (1.32.1)\n",
      "Requirement already satisfied: opentelemetry-exporter-otlp-proto-grpc>=1.2.0 in /usr/local/lib/python3.11/dist-packages (from chromadb) (1.32.1)\n",
      "Requirement already satisfied: opentelemetry-instrumentation-fastapi>=0.41b0 in /usr/local/lib/python3.11/dist-packages (from chromadb) (0.53b1)\n",
      "Requirement already satisfied: opentelemetry-sdk>=1.2.0 in /usr/local/lib/python3.11/dist-packages (from chromadb) (1.32.1)\n",
      "Requirement already satisfied: tokenizers>=0.13.2 in /usr/local/lib/python3.11/dist-packages (from chromadb) (0.21.1)\n",
      "Requirement already satisfied: pypika>=0.48.9 in /usr/local/lib/python3.11/dist-packages (from chromadb) (0.48.9)\n",
      "Requirement already satisfied: tqdm>=4.65.0 in /usr/local/lib/python3.11/dist-packages (from chromadb) (4.67.1)\n",
      "Requirement already satisfied: overrides>=7.3.1 in /usr/local/lib/python3.11/dist-packages (from chromadb) (7.7.0)\n",
      "Requirement already satisfied: importlib-resources in /usr/local/lib/python3.11/dist-packages (from chromadb) (6.5.2)\n",
      "Requirement already satisfied: grpcio>=1.58.0 in /usr/local/lib/python3.11/dist-packages (from chromadb) (1.71.0)\n",
      "Requirement already satisfied: bcrypt>=4.0.1 in /usr/local/lib/python3.11/dist-packages (from chromadb) (4.3.0)\n",
      "Requirement already satisfied: typer>=0.9.0 in /usr/local/lib/python3.11/dist-packages (from chromadb) (0.15.3)\n",
      "Requirement already satisfied: kubernetes>=28.1.0 in /usr/local/lib/python3.11/dist-packages (from chromadb) (32.0.1)\n",
      "Requirement already satisfied: tenacity>=8.2.3 in /usr/local/lib/python3.11/dist-packages (from chromadb) (9.1.2)\n",
      "Requirement already satisfied: pyyaml>=6.0.0 in /usr/local/lib/python3.11/dist-packages (from chromadb) (6.0.2)\n",
      "Requirement already satisfied: mmh3>=4.0.1 in /usr/local/lib/python3.11/dist-packages (from chromadb) (5.1.0)\n",
      "Requirement already satisfied: orjson>=3.9.12 in /usr/local/lib/python3.11/dist-packages (from chromadb) (3.10.18)\n",
      "Requirement already satisfied: httpx>=0.27.0 in /usr/local/lib/python3.11/dist-packages (from chromadb) (0.28.1)\n",
      "Requirement already satisfied: rich>=10.11.0 in /usr/local/lib/python3.11/dist-packages (from chromadb) (14.0.0)\n",
      "Requirement already satisfied: jsonschema>=4.19.0 in /usr/local/lib/python3.11/dist-packages (from chromadb) (4.23.0)\n",
      "Requirement already satisfied: starlette<0.46.0,>=0.40.0 in /usr/local/lib/python3.11/dist-packages (from fastapi==0.115.9->chromadb) (0.45.3)\n",
      "Requirement already satisfied: filelock in /usr/local/lib/python3.11/dist-packages (from transformers) (3.18.0)\n",
      "Requirement already satisfied: huggingface-hub<1.0,>=0.30.0 in /usr/local/lib/python3.11/dist-packages (from transformers) (0.30.2)\n",
      "Requirement already satisfied: packaging>=20.0 in /usr/local/lib/python3.11/dist-packages (from transformers) (24.2)\n",
      "Requirement already satisfied: regex!=2019.12.17 in /usr/local/lib/python3.11/dist-packages (from transformers) (2024.11.6)\n",
      "Requirement already satisfied: requests in /usr/local/lib/python3.11/dist-packages (from transformers) (2.32.3)\n",
      "Requirement already satisfied: safetensors>=0.4.3 in /usr/local/lib/python3.11/dist-packages (from transformers) (0.5.3)\n",
      "Requirement already satisfied: psutil in /usr/local/lib/python3.11/dist-packages (from accelerate) (5.9.5)\n",
      "Requirement already satisfied: torch>=2.0.0 in /usr/local/lib/python3.11/dist-packages (from accelerate) (2.6.0+cpu)\n",
      "Requirement already satisfied: scikit-learn in /usr/local/lib/python3.11/dist-packages (from sentence-transformers) (1.6.1)\n",
      "Requirement already satisfied: scipy in /usr/local/lib/python3.11/dist-packages (from sentence-transformers) (1.15.2)\n",
      "Requirement already satisfied: Pillow in /usr/local/lib/python3.11/dist-packages (from sentence-transformers) (11.2.1)\n",
      "Requirement already satisfied: langchain-core<1.0.0,>=0.3.58 in /usr/local/lib/python3.11/dist-packages (from langchain) (0.3.58)\n",
      "Requirement already satisfied: langchain-text-splitters<1.0.0,>=0.3.8 in /usr/local/lib/python3.11/dist-packages (from langchain) (0.3.8)\n",
      "Requirement already satisfied: langsmith<0.4,>=0.1.17 in /usr/local/lib/python3.11/dist-packages (from langchain) (0.3.42)\n",
      "Requirement already satisfied: SQLAlchemy<3,>=1.4 in /usr/local/lib/python3.11/dist-packages (from langchain) (2.0.40)\n",
      "Requirement already satisfied: pyproject_hooks in /usr/local/lib/python3.11/dist-packages (from build>=1.0.3->chromadb) (1.2.0)\n",
      "Requirement already satisfied: anyio in /usr/local/lib/python3.11/dist-packages (from httpx>=0.27.0->chromadb) (4.9.0)\n",
      "Requirement already satisfied: certifi in /usr/local/lib/python3.11/dist-packages (from httpx>=0.27.0->chromadb) (2025.4.26)\n",
      "Requirement already satisfied: httpcore==1.* in /usr/local/lib/python3.11/dist-packages (from httpx>=0.27.0->chromadb) (1.0.9)\n",
      "Requirement already satisfied: idna in /usr/local/lib/python3.11/dist-packages (from httpx>=0.27.0->chromadb) (3.10)\n",
      "Requirement already satisfied: h11>=0.16 in /usr/local/lib/python3.11/dist-packages (from httpcore==1.*->httpx>=0.27.0->chromadb) (0.16.0)\n",
      "Requirement already satisfied: fsspec>=2023.5.0 in /usr/local/lib/python3.11/dist-packages (from huggingface-hub<1.0,>=0.30.0->transformers) (2025.3.2)\n",
      "Requirement already satisfied: attrs>=22.2.0 in /usr/local/lib/python3.11/dist-packages (from jsonschema>=4.19.0->chromadb) (25.3.0)\n",
      "Requirement already satisfied: jsonschema-specifications>=2023.03.6 in /usr/local/lib/python3.11/dist-packages (from jsonschema>=4.19.0->chromadb) (2025.4.1)\n",
      "Requirement already satisfied: referencing>=0.28.4 in /usr/local/lib/python3.11/dist-packages (from jsonschema>=4.19.0->chromadb) (0.36.2)\n",
      "Requirement already satisfied: rpds-py>=0.7.1 in /usr/local/lib/python3.11/dist-packages (from jsonschema>=4.19.0->chromadb) (0.24.0)\n",
      "Requirement already satisfied: six>=1.9.0 in /usr/local/lib/python3.11/dist-packages (from kubernetes>=28.1.0->chromadb) (1.17.0)\n",
      "Requirement already satisfied: python-dateutil>=2.5.3 in /usr/local/lib/python3.11/dist-packages (from kubernetes>=28.1.0->chromadb) (2.9.0.post0)\n",
      "Requirement already satisfied: google-auth>=1.0.1 in /usr/local/lib/python3.11/dist-packages (from kubernetes>=28.1.0->chromadb) (2.38.0)\n",
      "Requirement already satisfied: websocket-client!=0.40.0,!=0.41.*,!=0.42.*,>=0.32.0 in /usr/local/lib/python3.11/dist-packages (from kubernetes>=28.1.0->chromadb) (1.8.0)\n",
      "Requirement already satisfied: requests-oauthlib in /usr/local/lib/python3.11/dist-packages (from kubernetes>=28.1.0->chromadb) (2.0.0)\n",
      "Requirement already satisfied: oauthlib>=3.2.2 in /usr/local/lib/python3.11/dist-packages (from kubernetes>=28.1.0->chromadb) (3.2.2)\n",
      "Requirement already satisfied: urllib3>=1.24.2 in /usr/local/lib/python3.11/dist-packages (from kubernetes>=28.1.0->chromadb) (2.4.0)\n",
      "Requirement already satisfied: durationpy>=0.7 in /usr/local/lib/python3.11/dist-packages (from kubernetes>=28.1.0->chromadb) (0.9)\n",
      "Requirement already satisfied: jsonpatch<2.0,>=1.33 in /usr/local/lib/python3.11/dist-packages (from langchain-core<1.0.0,>=0.3.58->langchain) (1.33)\n",
      "Requirement already satisfied: requests-toolbelt<2.0.0,>=1.0.0 in /usr/local/lib/python3.11/dist-packages (from langsmith<0.4,>=0.1.17->langchain) (1.0.0)\n",
      "Requirement already satisfied: zstandard<0.24.0,>=0.23.0 in /usr/local/lib/python3.11/dist-packages (from langsmith<0.4,>=0.1.17->langchain) (0.23.0)\n",
      "Requirement already satisfied: coloredlogs in /usr/local/lib/python3.11/dist-packages (from onnxruntime>=1.14.1->chromadb) (15.0.1)\n",
      "Requirement already satisfied: flatbuffers in /usr/local/lib/python3.11/dist-packages (from onnxruntime>=1.14.1->chromadb) (25.2.10)\n",
      "Requirement already satisfied: protobuf in /usr/local/lib/python3.11/dist-packages (from onnxruntime>=1.14.1->chromadb) (5.29.4)\n",
      "Requirement already satisfied: sympy in /usr/local/lib/python3.11/dist-packages (from onnxruntime>=1.14.1->chromadb) (1.13.1)\n",
      "Requirement already satisfied: deprecated>=1.2.6 in /usr/local/lib/python3.11/dist-packages (from opentelemetry-api>=1.2.0->chromadb) (1.2.18)\n",
      "Requirement already satisfied: importlib-metadata<8.7.0,>=6.0 in /usr/local/lib/python3.11/dist-packages (from opentelemetry-api>=1.2.0->chromadb) (8.6.1)\n",
      "Requirement already satisfied: googleapis-common-protos~=1.52 in /usr/local/lib/python3.11/dist-packages (from opentelemetry-exporter-otlp-proto-grpc>=1.2.0->chromadb) (1.70.0)\n",
      "Requirement already satisfied: opentelemetry-exporter-otlp-proto-common==1.32.1 in /usr/local/lib/python3.11/dist-packages (from opentelemetry-exporter-otlp-proto-grpc>=1.2.0->chromadb) (1.32.1)\n",
      "Requirement already satisfied: opentelemetry-proto==1.32.1 in /usr/local/lib/python3.11/dist-packages (from opentelemetry-exporter-otlp-proto-grpc>=1.2.0->chromadb) (1.32.1)\n",
      "Requirement already satisfied: opentelemetry-instrumentation-asgi==0.53b1 in /usr/local/lib/python3.11/dist-packages (from opentelemetry-instrumentation-fastapi>=0.41b0->chromadb) (0.53b1)\n",
      "Requirement already satisfied: opentelemetry-instrumentation==0.53b1 in /usr/local/lib/python3.11/dist-packages (from opentelemetry-instrumentation-fastapi>=0.41b0->chromadb) (0.53b1)\n",
      "Requirement already satisfied: opentelemetry-semantic-conventions==0.53b1 in /usr/local/lib/python3.11/dist-packages (from opentelemetry-instrumentation-fastapi>=0.41b0->chromadb) (0.53b1)\n",
      "Requirement already satisfied: opentelemetry-util-http==0.53b1 in /usr/local/lib/python3.11/dist-packages (from opentelemetry-instrumentation-fastapi>=0.41b0->chromadb) (0.53b1)\n",
      "Requirement already satisfied: wrapt<2.0.0,>=1.0.0 in /usr/local/lib/python3.11/dist-packages (from opentelemetry-instrumentation==0.53b1->opentelemetry-instrumentation-fastapi>=0.41b0->chromadb) (1.17.2)\n",
      "Requirement already satisfied: asgiref~=3.0 in /usr/local/lib/python3.11/dist-packages (from opentelemetry-instrumentation-asgi==0.53b1->opentelemetry-instrumentation-fastapi>=0.41b0->chromadb) (3.8.1)\n",
      "Requirement already satisfied: backoff>=1.10.0 in /usr/local/lib/python3.11/dist-packages (from posthog>=2.4.0->chromadb) (2.2.1)\n",
      "Requirement already satisfied: distro>=1.5.0 in /usr/lib/python3/dist-packages (from posthog>=2.4.0->chromadb) (1.7.0)\n",
      "Requirement already satisfied: annotated-types>=0.6.0 in /usr/local/lib/python3.11/dist-packages (from pydantic>=1.9->chromadb) (0.7.0)\n",
      "Requirement already satisfied: pydantic-core==2.33.1 in /usr/local/lib/python3.11/dist-packages (from pydantic>=1.9->chromadb) (2.33.1)\n",
      "Requirement already satisfied: typing-inspection>=0.4.0 in /usr/local/lib/python3.11/dist-packages (from pydantic>=1.9->chromadb) (0.4.0)\n",
      "Requirement already satisfied: charset-normalizer<4,>=2 in /usr/local/lib/python3.11/dist-packages (from requests->transformers) (3.4.1)\n",
      "Requirement already satisfied: markdown-it-py>=2.2.0 in /usr/local/lib/python3.11/dist-packages (from rich>=10.11.0->chromadb) (3.0.0)\n",
      "Requirement already satisfied: pygments<3.0.0,>=2.13.0 in /usr/local/lib/python3.11/dist-packages (from rich>=10.11.0->chromadb) (2.19.1)\n",
      "Requirement already satisfied: greenlet>=1 in /usr/local/lib/python3.11/dist-packages (from SQLAlchemy<3,>=1.4->langchain) (3.2.1)\n",
      "Requirement already satisfied: networkx in /usr/local/lib/python3.11/dist-packages (from torch>=2.0.0->accelerate) (3.4.2)\n",
      "Requirement already satisfied: jinja2 in /usr/local/lib/python3.11/dist-packages (from torch>=2.0.0->accelerate) (3.1.6)\n",
      "Requirement already satisfied: mpmath<1.4,>=1.1.0 in /usr/local/lib/python3.11/dist-packages (from sympy->onnxruntime>=1.14.1->chromadb) (1.3.0)\n",
      "Requirement already satisfied: click>=8.0.0 in /usr/local/lib/python3.11/dist-packages (from typer>=0.9.0->chromadb) (8.1.8)\n",
      "Requirement already satisfied: shellingham>=1.3.0 in /usr/local/lib/python3.11/dist-packages (from typer>=0.9.0->chromadb) (1.5.4)\n",
      "Requirement already satisfied: httptools>=0.6.3 in /usr/local/lib/python3.11/dist-packages (from uvicorn[standard]>=0.18.3->chromadb) (0.6.4)\n",
      "Requirement already satisfied: python-dotenv>=0.13 in /usr/local/lib/python3.11/dist-packages (from uvicorn[standard]>=0.18.3->chromadb) (1.1.0)\n",
      "Requirement already satisfied: uvloop!=0.15.0,!=0.15.1,>=0.14.0 in /usr/local/lib/python3.11/dist-packages (from uvicorn[standard]>=0.18.3->chromadb) (0.21.0)\n",
      "Requirement already satisfied: watchfiles>=0.13 in /usr/local/lib/python3.11/dist-packages (from uvicorn[standard]>=0.18.3->chromadb) (1.0.5)\n",
      "Requirement already satisfied: websockets>=10.4 in /usr/local/lib/python3.11/dist-packages (from uvicorn[standard]>=0.18.3->chromadb) (15.0.1)\n",
      "Requirement already satisfied: joblib>=1.2.0 in /usr/local/lib/python3.11/dist-packages (from scikit-learn->sentence-transformers) (1.4.2)\n",
      "Requirement already satisfied: threadpoolctl>=3.1.0 in /usr/local/lib/python3.11/dist-packages (from scikit-learn->sentence-transformers) (3.6.0)\n",
      "Requirement already satisfied: cachetools<6.0,>=2.0.0 in /usr/local/lib/python3.11/dist-packages (from google-auth>=1.0.1->kubernetes>=28.1.0->chromadb) (5.5.2)\n",
      "Requirement already satisfied: pyasn1-modules>=0.2.1 in /usr/local/lib/python3.11/dist-packages (from google-auth>=1.0.1->kubernetes>=28.1.0->chromadb) (0.4.2)\n",
      "Requirement already satisfied: rsa<5,>=3.1.4 in /usr/local/lib/python3.11/dist-packages (from google-auth>=1.0.1->kubernetes>=28.1.0->chromadb) (4.9.1)\n",
      "Requirement already satisfied: zipp>=3.20 in /usr/local/lib/python3.11/dist-packages (from importlib-metadata<8.7.0,>=6.0->opentelemetry-api>=1.2.0->chromadb) (3.21.0)\n",
      "Requirement already satisfied: jsonpointer>=1.9 in /usr/local/lib/python3.11/dist-packages (from jsonpatch<2.0,>=1.33->langchain-core<1.0.0,>=0.3.58->langchain) (3.0.0)\n",
      "Requirement already satisfied: mdurl~=0.1 in /usr/local/lib/python3.11/dist-packages (from markdown-it-py>=2.2.0->rich>=10.11.0->chromadb) (0.1.2)\n",
      "Requirement already satisfied: sniffio>=1.1 in /usr/local/lib/python3.11/dist-packages (from anyio->httpx>=0.27.0->chromadb) (1.3.1)\n",
      "Requirement already satisfied: humanfriendly>=9.1 in /usr/local/lib/python3.11/dist-packages (from coloredlogs->onnxruntime>=1.14.1->chromadb) (10.0)\n",
      "Requirement already satisfied: MarkupSafe>=2.0 in /usr/local/lib/python3.11/dist-packages (from jinja2->torch>=2.0.0->accelerate) (3.0.2)\n",
      "Requirement already satisfied: pyasn1<0.7.0,>=0.6.1 in /usr/local/lib/python3.11/dist-packages (from pyasn1-modules>=0.2.1->google-auth>=1.0.1->kubernetes>=28.1.0->chromadb) (0.6.1)\n"
     ]
    }
   ],
   "source": [
    "!pip install chromadb transformers accelerate sentence-transformers PyMuPDF langchain"
   ]
  },
  {
   "cell_type": "code",
   "source": [
    "import fitz  # PyMuPDF\n",
    "import chromadb\n",
    "from sentence_transformers import SentenceTransformer\n",
    "from langchain.text_splitter import RecursiveCharacterTextSplitter\n",
    "from transformers import AutoTokenizer, AutoModelForCausalLM, pipeline"
   ],
   "metadata": {
    "id": "V4jrSXq6m26m"
   },
   "execution_count": null,
   "outputs": []
  },
  {
   "cell_type": "code",
   "source": [
    "embedding_model = SentenceTransformer(\"all-MiniLM-L6-v2\")"
   ],
   "metadata": {
    "colab": {
     "base_uri": "https://localhost:8080/",
     "height": 535,
     "referenced_widgets": [
      "0c94d509afd143ceab3d4048c8fa83ce",
      "bce63566285046f79df8c0066227512f",
      "bd136ea09c414bd290ccb590bf070a36",
      "4eadbe324ce8453ead3ff777d4cf33d0",
      "13d5082553104c8c962cd803c188f713",
      "6bb6b916f4934e759cc3b982558f1076",
      "ba8ecfff48874313bfbce43bbef9485d",
      "a04e92f2f4ce4758b401312ae2563f9f",
      "ee4a096f4d1e44c0b2a62e8f1ee6b4f3",
      "3ce65f06eb9e4aa885579870c615000f",
      "8fe70d00530545d18ce9dceb2f1ec4f1",
      "b87103546cdb4cebb6c12b4941c12e00",
      "abf68caac8ad4a10b1dc4ba8657433e1",
      "87a5ab65ac194c379840c2b9e62e8435",
      "d7bd003b74624f828ca35f7ae5e0fa35",
      "59eab51eea444a6a85a9564f642c0c10",
      "2f49288fd44f470f99b2fdd06045d2b1",
      "4a0189e786a94659bdba879b1519f529",
      "b8ae3ac879204724b865e3cc82110d86",
      "648014c2f36c4dbba0953aed5131ea45",
      "79a901c35b6047ff916cfd05771e6024",
      "43bcc93e89fa423f8f55133619f92c2a",
      "19e1c9cd61124e67a2505da35c3da7b0",
      "7435c041d6534361a8f2eb177a18c6b3",
      "4a3ab2ab961042d8af6a19642c3e8b05",
      "fc8b1c3226ae4418b993c01e50e9f6b9",
      "c08a348f4393451482ec9079283a1009",
      "b09451a10079475ea4277c7672508684",
      "d75de7fb24a947ce9663c09877d2e1c3",
      "95500a8184a2452d881911fd0a6fbdef",
      "3c0e7209335e4bf98722336bb3f2b546",
      "7c043f6d9af7444dbae083a550a5c841",
      "2af11a6fc56749fdb447f47fcc928abc",
      "95121449f01a440c9051b90da5efdc0f",
      "5ef743892bf24f0eabb2a27e3281d66a",
      "6f190336a1494b0785a7e620d7a72632",
      "22a85624637f4d388d26bf987e7b4a7d",
      "d59e09531452428faa5aa4bb689326c1",
      "260b4adf68fd43938a48572d0330004f",
      "22a3013f46184b04a40d071ca2ec101d",
      "45e888b8eef3485d9d24ac6ef3f80546",
      "d3529660cac44d08b2a2ea31a6040385",
      "29ff1694a3684454ad67a5224f4cd713",
      "3dbc0bb2c2a04aa689b6b4a370201a54",
      "2f7549580c44432ab0e4deee7f768608",
      "c17c9bc8a0a44e92b7ade606d9c0cad7",
      "522678a99e574c209537cdb0f7e32681",
      "d596bf0f10da4ce0bc9d8be439b50d3f",
      "195cfd7644c541f9b28c8a4c356377ee",
      "d846fd796ae34b04ba9e91e4584306ab",
      "fdcc5154952d4c59a7bdbefbbdd824cf",
      "96e2fe33864b45d3b937dc63d41c8cd1",
      "7386cb7b79e24bffb84ec1b9fed4bd92",
      "2f798dde50674d109e86164f5779cd6a",
      "d351a6a925a04abfa63f2113a2aa0ab9",
      "901f5b4f9cdc455891ff37a7adc851ab",
      "196111a85c3b4d6682344eb5df71fbf5",
      "0aa975b53f914f1a9f674fd32108121d",
      "befc656603b040a0a94dfb95a9cc0cc8",
      "f14135d56bb64715a7059c214524e090",
      "9b41d98978134ee09a75dda5544f7a30",
      "043db58a4ab74394846bdbc010e65368",
      "4d11911f0bd1425abcf24b275a257c00",
      "ca1179dcc274428cb6268d3824ac1044",
      "5a2123fddc6a44cb9e17e82485dda253",
      "1d7279a7d87c4450951c86634b0a608b",
      "1274b5041ae14d15964acd11ff88f51b",
      "7766351be9964897b64ecb2f1035e89f",
      "00e2bccdd50245f1977033fdf9f9ddfc",
      "a53f84e46edb41e9beff059c145ebf23",
      "cb8d5398463f4a24a077b5a13dd68411",
      "1f10a0356e974bc3ab61b8a940098f5b",
      "573c48f340b24eccba1b58058eaf55c8",
      "2affff9e352f4a91bfed8b80a86b4a0f",
      "31792e6cde0d484896b94114b7404df3",
      "97c1d38ab37b4cea9078f3e5908f6dec",
      "09c3a9faf3604e3ebcec834db84fd231",
      "c2c7505104d441ae9882d81270264862",
      "a170dce457f14f68bb73be0d262479bd",
      "ece01955fad04105ad5e65e7179e08d1",
      "7c5f2fd55c5a44688484bafc3c351e56",
      "e980d71547634276b8df001d2e6494d3",
      "ecfc8d03d47d4047b2276880b2ac140b",
      "21111ce3ffe240bcba70015fcd0f60d1",
      "e5b9a94c82014a0fbd299358b1f9dc43",
      "9604fbcbd4f8463090f834a33292076b",
      "57600223226a45e09223440b8bff0448",
      "9e4c9b930c314e20ab128d0d44f051c1",
      "0cec01f717674f4588a0c818533a3971",
      "a41389f5097e4340b131238dbaac8f82",
      "07d99f7e423c4afab2d3f9cdf01677b7",
      "360d0417e6c0406e86ca854fc02e3a3e",
      "17df644f5d184f058813b5f2ed6a9e87",
      "c53ef68d34be43038e5fa095d844cb0e",
      "05f594ed12784fd69eed12fdc2b7b406",
      "6e8abf5d9d17428ca4a9b407f8ad0a25",
      "4788dd0fd1e748c7a921696e35dd1673",
      "ff21a67dfce54a8fb391afc4b0f5d48b",
      "47152b92775749729124c8f3f57b5e20",
      "3315e7eb5483434b8bff0993c8d9d4ec",
      "deb1d272391f4aa5bab8135662d91451",
      "bfecd2b6c3cd4a6394907e5be6f2dae3",
      "458efc60f885480687f3d33f1c3cd332",
      "d213e50afb874c9c8e0e73e1f7579e05",
      "2379589a99074aa794b3ec8bd7754eca",
      "57b5c1eab9364dc5b0ef49031cc47919",
      "aeaf6ee3dd4e43b79b1026c177488ab8",
      "8397e7d40c3f4a5e89f07bfe683b54af",
      "2a7bd8a36bce46eaad8066c7d6bdcc49",
      "1056c2d0ffef40768c4e72b28e93f92b",
      "c7c2fefde83a4b83bd419d97af9b4d07",
      "5f47ad787a90457688f364b41a6ec1c5",
      "cc7f81f5de834e83a9aaf39578899ad1",
      "2fe295ee7ecb45bbab3a11578205ae43",
      "036abdb175e44c4b879f14be4eb8b48e",
      "b7432b3b57594234901cb2148933a201",
      "e52c0fbb30a24a0dbaf292c63b82f9f5",
      "9809233b5dcf419ea0402a3807b331e2",
      "0f5f3e4baf2043be94f8945252ee2a2e",
      "5d365374964a46c99109ea4fb3d57086",
      "96c825aaf21042ce83b88f559c9462cc"
     ]
    },
    "id": "esn9I1Vdm7hC",
    "outputId": "c51f8f9d-f4e9-467e-b129-0fb603d42d04"
   },
   "execution_count": null,
   "outputs": [
    {
     "output_type": "stream",
     "name": "stderr",
     "text": [
      "/usr/local/lib/python3.11/dist-packages/huggingface_hub/utils/_auth.py:94: UserWarning: \n",
      "The secret `HF_TOKEN` does not exist in your Colab secrets.\n",
      "To authenticate with the Hugging Face Hub, create a token in your settings tab (https://huggingface.co/settings/tokens), set it as secret in your Google Colab and restart your session.\n",
      "You will be able to reuse this secret in all of your notebooks.\n",
      "Please note that authentication is recommended but still optional to access public models or datasets.\n",
      "  warnings.warn(\n"
     ]
    },
    {
     "output_type": "display_data",
     "data": {
      "text/plain": [
       "modules.json:   0%|          | 0.00/349 [00:00<?, ?B/s]"
      ],
      "application/vnd.jupyter.widget-view+json": {
       "version_major": 2,
       "version_minor": 0,
       "model_id": "0c94d509afd143ceab3d4048c8fa83ce"
      }
     },
     "metadata": {}
    },
    {
     "output_type": "display_data",
     "data": {
      "text/plain": [
       "config_sentence_transformers.json:   0%|          | 0.00/116 [00:00<?, ?B/s]"
      ],
      "application/vnd.jupyter.widget-view+json": {
       "version_major": 2,
       "version_minor": 0,
       "model_id": "b87103546cdb4cebb6c12b4941c12e00"
      }
     },
     "metadata": {}
    },
    {
     "output_type": "display_data",
     "data": {
      "text/plain": [
       "README.md:   0%|          | 0.00/10.5k [00:00<?, ?B/s]"
      ],
      "application/vnd.jupyter.widget-view+json": {
       "version_major": 2,
       "version_minor": 0,
       "model_id": "19e1c9cd61124e67a2505da35c3da7b0"
      }
     },
     "metadata": {}
    },
    {
     "output_type": "display_data",
     "data": {
      "text/plain": [
       "sentence_bert_config.json:   0%|          | 0.00/53.0 [00:00<?, ?B/s]"
      ],
      "application/vnd.jupyter.widget-view+json": {
       "version_major": 2,
       "version_minor": 0,
       "model_id": "95121449f01a440c9051b90da5efdc0f"
      }
     },
     "metadata": {}
    },
    {
     "output_type": "display_data",
     "data": {
      "text/plain": [
       "config.json:   0%|          | 0.00/612 [00:00<?, ?B/s]"
      ],
      "application/vnd.jupyter.widget-view+json": {
       "version_major": 2,
       "version_minor": 0,
       "model_id": "2f7549580c44432ab0e4deee7f768608"
      }
     },
     "metadata": {}
    },
    {
     "output_type": "stream",
     "name": "stderr",
     "text": [
      "Xet Storage is enabled for this repo, but the 'hf_xet' package is not installed. Falling back to regular HTTP download. For better performance, install the package with: `pip install huggingface_hub[hf_xet]` or `pip install hf_xet`\n",
      "WARNING:huggingface_hub.file_download:Xet Storage is enabled for this repo, but the 'hf_xet' package is not installed. Falling back to regular HTTP download. For better performance, install the package with: `pip install huggingface_hub[hf_xet]` or `pip install hf_xet`\n"
     ]
    },
    {
     "output_type": "display_data",
     "data": {
      "text/plain": [
       "model.safetensors:   0%|          | 0.00/90.9M [00:00<?, ?B/s]"
      ],
      "application/vnd.jupyter.widget-view+json": {
       "version_major": 2,
       "version_minor": 0,
       "model_id": "901f5b4f9cdc455891ff37a7adc851ab"
      }
     },
     "metadata": {}
    },
    {
     "output_type": "display_data",
     "data": {
      "text/plain": [
       "tokenizer_config.json:   0%|          | 0.00/350 [00:00<?, ?B/s]"
      ],
      "application/vnd.jupyter.widget-view+json": {
       "version_major": 2,
       "version_minor": 0,
       "model_id": "1274b5041ae14d15964acd11ff88f51b"
      }
     },
     "metadata": {}
    },
    {
     "output_type": "display_data",
     "data": {
      "text/plain": [
       "vocab.txt:   0%|          | 0.00/232k [00:00<?, ?B/s]"
      ],
      "application/vnd.jupyter.widget-view+json": {
       "version_major": 2,
       "version_minor": 0,
       "model_id": "c2c7505104d441ae9882d81270264862"
      }
     },
     "metadata": {}
    },
    {
     "output_type": "display_data",
     "data": {
      "text/plain": [
       "tokenizer.json:   0%|          | 0.00/466k [00:00<?, ?B/s]"
      ],
      "application/vnd.jupyter.widget-view+json": {
       "version_major": 2,
       "version_minor": 0,
       "model_id": "0cec01f717674f4588a0c818533a3971"
      }
     },
     "metadata": {}
    },
    {
     "output_type": "display_data",
     "data": {
      "text/plain": [
       "special_tokens_map.json:   0%|          | 0.00/112 [00:00<?, ?B/s]"
      ],
      "application/vnd.jupyter.widget-view+json": {
       "version_major": 2,
       "version_minor": 0,
       "model_id": "3315e7eb5483434b8bff0993c8d9d4ec"
      }
     },
     "metadata": {}
    },
    {
     "output_type": "display_data",
     "data": {
      "text/plain": [
       "config.json:   0%|          | 0.00/190 [00:00<?, ?B/s]"
      ],
      "application/vnd.jupyter.widget-view+json": {
       "version_major": 2,
       "version_minor": 0,
       "model_id": "c7c2fefde83a4b83bd419d97af9b4d07"
      }
     },
     "metadata": {}
    }
   ]
  },
  {
   "cell_type": "code",
   "source": [
    "model_id = \"HuggingFaceH4/zephyr-7b-alpha\"\n",
    "tokenizer = AutoTokenizer.from_pretrained(model_id)\n",
    "model = AutoModelForCausalLM.from_pretrained(model_id, torch_dtype=\"auto\", device_map=\"auto\")\n",
    "qa_pipeline = pipeline(\"text-generation\", model=model, tokenizer=tokenizer)"
   ],
   "metadata": {
    "colab": {
     "base_uri": "https://localhost:8080/",
     "height": 1000,
     "referenced_widgets": [
      "1cdb9b9e6223448e8f5ce9619d2afb48",
      "a46102bb41d742b29af293343f20e3b0",
      "2383fb8cae3e4137868780a53b55919c",
      "bbbfcae279fa466398da5e88b2c86830",
      "8c192708f1d24e509190e8b122814fb0",
      "96ff0ce2dfb8404ba8a595b253b6d8d5",
      "497776d2173942b78300068f5e47c3ff",
      "72a00284c8e048af973195fc2d8fe569",
      "42fea3f5e7d643968b393b7d61896af3",
      "f02e0d4d1fd8416bbe91dab7d1d21859",
      "bf593712428b4dd5a0788614e3545c9a",
      "e25a00f941e043ed907da3d05c554cd1",
      "3a9714ff1b284f5e9ca718cc078f3ea4",
      "4fb5f7a91cfe4c9bb80214a26b91b63d",
      "3d231a3079894e069b80258ba42ed645",
      "db710c16069b4a559209322a718b3d19",
      "14e1c48efda64a519fcee0b09d27b84d",
      "02aabd2b521d461abd4b9f045c3ece28",
      "717a073d08404dcdb509c5e29df1ec85",
      "4264c03bba154b9bbc9c263035751b86",
      "6194365a13df4bc09b7d75508059b4dc",
      "ef7834e266954da79a76d0b601c05c62",
      "6610e9f0d3684d2bb003e5aa4ba3572d",
      "bc786a043ebc48d7b7ecb2060381159e",
      "3b73f5aaf65648579a82122c1eb64959",
      "ac4d8f9f2674469db7b750df2f3630be",
      "257b4226245d428098ca25b62bf0263d",
      "5f577bd045b14a2eb831bc577f46c64d",
      "23bd0ea5acfd47b7a4fa7a8191af1fa2",
      "f2a364431410402295f0da9e952a4f39",
      "7735ac9ecc234e6a8b7484d929b70afe",
      "e1cbb9e57d184c7dbc294757374fcddb",
      "3a699f9c8e6a4febbb0ecb5c94424292",
      "d19b2dba43ae4aa3b263de89e0effcb1",
      "8c1be9980c3d44869887ff4c497f3155",
      "07841d02114d482286ecb3bac23517e8",
      "c780aafd702e435981fcc813fdadfdc5",
      "36bc57de36b84eb687726db7cf355aee",
      "e9316198818346498cde7d22983f2046",
      "847da6187cfb410094dfa0e5bf06e306",
      "97526f184a4149c4b729212339ca61ee",
      "498c38b7ea0044c6a1ac383e5b69afd9",
      "c0ed66b82b6743348ef88e689195e314",
      "f44a5747582e4a89a75e8f46bb254df5",
      "f8ddb0f438d849cb80cb690b01da5a16",
      "9f3bda7b81874450a81709edcbe015a1",
      "257f7d0b040b4b77958e5b9a96266207",
      "c484d75e63e6403087029b560833d2ac",
      "8a3e87ecf52f4ff9815c6c338dd91fdb",
      "bceedaaf39034a269a93a6339b95f617",
      "ee1465402900424cabd0b4fca5515c8a",
      "e2d3b49efdb445ea818b901581f96c7d",
      "b83f8081921849b88c44d3440fea4787",
      "a188dd42431f450aa2ff30dbf60cfa1b",
      "af26be8fb4534fe68e1d337eaa01dfbb",
      "108016b411e848f08d69e500283ac51e",
      "bcde3830d9944d7c8fc815c9d1c28a84",
      "43273c68431c496eb245818c7b93bbde",
      "bb52bf3c794a47f29d982b3f43bff5eb",
      "592136d1e94a479ab96ede349c691b90",
      "7d19948818fe48b3b9081ed55ed23a40",
      "88db5bedc3ba4f8ba7ca2a6e8bb774d1",
      "33d9409aab514b209729ab5551a3d4c3",
      "8bac0fa6a25a404b8bb2f07330ea84e9",
      "26cceef9520741a19769385eb17a6d41",
      "2fe99e00ab2341e9b324f1b663617aaf",
      "f93c8057480041259d01e6f6167ab33a",
      "ae1de64aee8a4ada88486407c03595d7",
      "6e4308e4982848758a8856f975430aeb",
      "5bff7c840b16493cb696f49e591bb94d",
      "1aa64c2379dd4dba965dfe9e778c07dd",
      "ca51e84724084b43b68fecd69b47de4e",
      "de010df05680442c912b3df4799dfac4",
      "743ca2683c8d44a6ae6bb69a1317d638",
      "caa3964b42604ba0a739b490280faba2",
      "11597d0f020f47359a93e4950962439a",
      "0c207183fe964f5c96552927bd78f103",
      "42bcddf85d79444fbb4c4e9083b549aa",
      "3647602ea72642918b412de8e318ad7e",
      "a2970bc66a3641b88e73f483363761b0",
      "91ae91bd0e804af0ad40fc3a29a43208",
      "12ece61a74e247a9967db5ea48430724",
      "1912c3f22dad4eda82fcbae9a0fd3300",
      "cb51c24a140f4efba17ea27481652de3",
      "46e1a2a15c5e43858ac232eb0dc7202a",
      "a760dc513d844be9a2dd80d46d55d444",
      "28b03533eac648f883adfdb5797e3072",
      "873c8f6ac1aa46c8a12b9c32a20fa91c",
      "5d96868384ab4346ad6390770735e6c8",
      "36565601059b40e58dd6e40a64d34f7a",
      "f30b651fe65142079df2155d72229bd9",
      "22871f00a8614385a118c8bec995f9e5",
      "67dcb57a3c56481fb1af26ee6dfdd0a2",
      "d7ca270b873840fe84db3435436d3db1",
      "b8b76cc6239d42149e74cf8a328b0961",
      "843e7abf414541a69188bea138d6ffb7",
      "800a96b688b54635aa9d386ac6bf5229",
      "4ed0d6228bdb4eda83cbf27ff1283d39",
      "57bae3e4328e45a19ccf5f491d37c2ba",
      "2bb151376ddc47dda960ca2b28f5b834",
      "9d07b76c28e34f58b9db7264e8d1ce4b",
      "a187833c66c64350b59af5bf85c5a292",
      "88ca82fddf874910832fb3254cb8e967",
      "d7d0796f554648d5a467cb890322542e",
      "0831b3030d54425b97112dab96a91cbb",
      "f80c551edd1448209f377db326adddb2",
      "9287d0f1b04a4c0ba28752f28d91fff2",
      "442369ffcc2b4478823341710c73144e",
      "4a92bfd8c68e4e7a9316539089269814",
      "a1572c640f56412a9578f856542e45d8",
      "a2df61682b1b403382d8e484a652230e",
      "8858a7501938413d854caeb1fda0ca92",
      "104785f14c0d42248f4af3c49c0bd2d7",
      "283102393cac4fd78d7456b9c8d6ac99",
      "b28f5bf1d41a4b6b94ea5e7f9ddcd6e0",
      "239b0a5a104544c481103a234b4a5bba",
      "7fee8a97e8d74fe5bf64d236bab9d150",
      "0d4fdf45bfd5489ba6ff264ea24a3ed4",
      "708d9824b1d8400fb10531e8d16cd00e",
      "c9ae3c54a73745b59440f54aca40a829",
      "c7cc1bcdb86b4606b9b7c3371462583a",
      "c09c5d3c23554f579056e12aab60cf25",
      "fa3db676ad6a4328853c9bbcede9571e",
      "3b923da78fa74496af3e71fa208e3da4",
      "daba3ec44ca5443d8df3e78d6c497e6b",
      "5413f2eeb5404568ba203b9aebe72e10",
      "ef2fbe645ddc4eb8a2c4b5fac68f7a89",
      "3b495b24a0524f5fbccd43674df69378",
      "edda38ba88144b4fa8d8083b8d98cf39",
      "2c42e48063e64b4996484d240b3094fe",
      "dda334a7359547d593664a37d9c2b744",
      "3962d7bf4d844d8a8735f2ddd5f298c7",
      "6a79c8b1df514dd295768dd4da3a0bc7",
      "9401c72038ff4cd18e162ee888af902f",
      "0e83d7e16c97424094f3cd6ed3f6bc1e",
      "b7db0a91de27400b9cd3181edd378098",
      "4754bfea53d74c3ba3e0b8d44979ee90",
      "8b0e628b161947e199640d8f6993fd1b",
      "0036c2946fe54f959bc5a64b2534e49f",
      "ccd78ac5b98e489588f2fed42b026563",
      "ac04e39d0d2a4681b91f8cf5258d79e6",
      "4b8b9e016268448e982ebd9dd44c2572",
      "fa8bb53115f84e0b88aefee9fdf7c901",
      "d8c06edcf99d440db368e424f876a539",
      "04ca6509ac964372b58ae01fa50bdfe2",
      "d513a4e1259e4bee9c4813b5817b6b16",
      "808e290d8a3c4264b848cd0a130a8892",
      "5d91f31390d54c5b8b074d180ac255fa",
      "ad92e2d227874730bb7eb80c22d395ea",
      "934741a3287142d9b5717d57e811bfd5",
      "5aec6b97d3054e718dbbf9b2dfe3e1a0",
      "1465616441794902b8d14212b6c391b0",
      "47f2536cd420476b9ac5cf61b790412b",
      "d39fdb4a34074d6293d891d5a27a5c42",
      "a7b8d17b17934685b87d8bb93e2ac114",
      "814736c0fcac44e1a2352bfd7b3af963",
      "4869c8d0cc9747ec974173fb55b46b94",
      "d4f34dc855694d7fbbfe97132739947b",
      "b56f9bd267f3464e9df459037838a648",
      "908cd6a904764f029655a630c520ef23",
      "16a0248452a947c990650611d3e998d2",
      "331f142439ed484c85d230e979fd59ef",
      "96d91094f6e8461b97c029ce32bd6871",
      "2e6ad9dbd03c4f548782cabc36329ebc",
      "b76b3d71737a498db3a28ba2c4f7db37",
      "dac70801e8f4402bba91890f4e6f1406",
      "15af74ad7aa24814a1957be686514d37",
      "9298574191634eb09394e75c319a499e",
      "9bad9755255f4e0d93736fbe4654bd31",
      "7260bda5d5984e958fc8ca50aae9c671",
      "feda4ae0b900455eac2474dd08d360ec",
      "ea116d9cce7d42c9a792b1d6a9fbdfa8",
      "8cccb5c468e447419a16d4b06de60892",
      "c8c3e6ade13647d3868443a1691902e8",
      "04b9df5a758b48328aa6c0c896338abd",
      "848ba7679b714bcfb35e547ba3761d9a",
      "2b4fd6209d614c07a0b1b4cc8964cbb3",
      "93fd80bc38244acb8c3f23a812e545af",
      "a387e3f69e034da08ef8ed195fcadb58",
      "aa20b8c03dc84b52ab33a30e6695c65a",
      "97528a2314b442bdbde493c6b14e6fed",
      "a37a23ffa23949f8886c32d398029334",
      "f565a0b940d940049c245d894bf2bdff",
      "3f2ae7bb529045338dc621f2c68282b9",
      "0dc52f81dc6d4305a912d77b10120b6a",
      "358a59adbdc64d0c876e05b592dcb416",
      "dad4fe74948540b78e7e983e726aa994",
      "e31cd0749c044bf9a3ffa9d6bbdf1766",
      "bb480c85d1914af3aeac99a71dbafcbe",
      "65dbb7881855432c9f57ed5b02d3f09c",
      "9a421a4bb5b8448a9fb52e9398e98ffc",
      "f96f091dd2f54d688f4f6f436ecd0347",
      "12baf356e5674e6ba1791c5ff225e95a",
      "7d37b4509c8747e78b36a137ca57d07c",
      "557f809c6bb04998b14d7eeffe22a439",
      "bb8f1092cfb542beb55e4a26e53d74b8",
      "032bab70113247a98e3990e5fb4dda49",
      "ba7790a2cc344abdb05c598e9a085c32"
     ]
    },
    "id": "Q8FZ51aQm9rD",
    "outputId": "5c85bb37-f965-4902-8b86-35c0f6fff471"
   },
   "execution_count": null,
   "outputs": [
    {
     "output_type": "display_data",
     "data": {
      "text/plain": [
       "tokenizer_config.json:   0%|          | 0.00/1.43k [00:00<?, ?B/s]"
      ],
      "application/vnd.jupyter.widget-view+json": {
       "version_major": 2,
       "version_minor": 0,
       "model_id": "1cdb9b9e6223448e8f5ce9619d2afb48"
      }
     },
     "metadata": {}
    },
    {
     "output_type": "stream",
     "name": "stderr",
     "text": [
      "Xet Storage is enabled for this repo, but the 'hf_xet' package is not installed. Falling back to regular HTTP download. For better performance, install the package with: `pip install huggingface_hub[hf_xet]` or `pip install hf_xet`\n",
      "WARNING:huggingface_hub.file_download:Xet Storage is enabled for this repo, but the 'hf_xet' package is not installed. Falling back to regular HTTP download. For better performance, install the package with: `pip install huggingface_hub[hf_xet]` or `pip install hf_xet`\n"
     ]
    },
    {
     "output_type": "display_data",
     "data": {
      "text/plain": [
       "tokenizer.model:   0%|          | 0.00/493k [00:00<?, ?B/s]"
      ],
      "application/vnd.jupyter.widget-view+json": {
       "version_major": 2,
       "version_minor": 0,
       "model_id": "e25a00f941e043ed907da3d05c554cd1"
      }
     },
     "metadata": {}
    },
    {
     "output_type": "display_data",
     "data": {
      "text/plain": [
       "tokenizer.json:   0%|          | 0.00/1.80M [00:00<?, ?B/s]"
      ],
      "application/vnd.jupyter.widget-view+json": {
       "version_major": 2,
       "version_minor": 0,
       "model_id": "6610e9f0d3684d2bb003e5aa4ba3572d"
      }
     },
     "metadata": {}
    },
    {
     "output_type": "display_data",
     "data": {
      "text/plain": [
       "added_tokens.json:   0%|          | 0.00/42.0 [00:00<?, ?B/s]"
      ],
      "application/vnd.jupyter.widget-view+json": {
       "version_major": 2,
       "version_minor": 0,
       "model_id": "d19b2dba43ae4aa3b263de89e0effcb1"
      }
     },
     "metadata": {}
    },
    {
     "output_type": "display_data",
     "data": {
      "text/plain": [
       "special_tokens_map.json:   0%|          | 0.00/168 [00:00<?, ?B/s]"
      ],
      "application/vnd.jupyter.widget-view+json": {
       "version_major": 2,
       "version_minor": 0,
       "model_id": "f8ddb0f438d849cb80cb690b01da5a16"
      }
     },
     "metadata": {}
    },
    {
     "output_type": "display_data",
     "data": {
      "text/plain": [
       "config.json:   0%|          | 0.00/628 [00:00<?, ?B/s]"
      ],
      "application/vnd.jupyter.widget-view+json": {
       "version_major": 2,
       "version_minor": 0,
       "model_id": "108016b411e848f08d69e500283ac51e"
      }
     },
     "metadata": {}
    },
    {
     "output_type": "display_data",
     "data": {
      "text/plain": [
       "model.safetensors.index.json:   0%|          | 0.00/23.9k [00:00<?, ?B/s]"
      ],
      "application/vnd.jupyter.widget-view+json": {
       "version_major": 2,
       "version_minor": 0,
       "model_id": "f93c8057480041259d01e6f6167ab33a"
      }
     },
     "metadata": {}
    },
    {
     "output_type": "display_data",
     "data": {
      "text/plain": [
       "Fetching 8 files:   0%|          | 0/8 [00:00<?, ?it/s]"
      ],
      "application/vnd.jupyter.widget-view+json": {
       "version_major": 2,
       "version_minor": 0,
       "model_id": "42bcddf85d79444fbb4c4e9083b549aa"
      }
     },
     "metadata": {}
    },
    {
     "output_type": "stream",
     "name": "stderr",
     "text": [
      "Xet Storage is enabled for this repo, but the 'hf_xet' package is not installed. Falling back to regular HTTP download. For better performance, install the package with: `pip install huggingface_hub[hf_xet]` or `pip install hf_xet`\n",
      "WARNING:huggingface_hub.file_download:Xet Storage is enabled for this repo, but the 'hf_xet' package is not installed. Falling back to regular HTTP download. For better performance, install the package with: `pip install huggingface_hub[hf_xet]` or `pip install hf_xet`\n",
      "Xet Storage is enabled for this repo, but the 'hf_xet' package is not installed. Falling back to regular HTTP download. For better performance, install the package with: `pip install huggingface_hub[hf_xet]` or `pip install hf_xet`\n",
      "WARNING:huggingface_hub.file_download:Xet Storage is enabled for this repo, but the 'hf_xet' package is not installed. Falling back to regular HTTP download. For better performance, install the package with: `pip install huggingface_hub[hf_xet]` or `pip install hf_xet`\n",
      "Xet Storage is enabled for this repo, but the 'hf_xet' package is not installed. Falling back to regular HTTP download. For better performance, install the package with: `pip install huggingface_hub[hf_xet]` or `pip install hf_xet`\n",
      "WARNING:huggingface_hub.file_download:Xet Storage is enabled for this repo, but the 'hf_xet' package is not installed. Falling back to regular HTTP download. For better performance, install the package with: `pip install huggingface_hub[hf_xet]` or `pip install hf_xet`\n",
      "Xet Storage is enabled for this repo, but the 'hf_xet' package is not installed. Falling back to regular HTTP download. For better performance, install the package with: `pip install huggingface_hub[hf_xet]` or `pip install hf_xet`\n",
      "WARNING:huggingface_hub.file_download:Xet Storage is enabled for this repo, but the 'hf_xet' package is not installed. Falling back to regular HTTP download. For better performance, install the package with: `pip install huggingface_hub[hf_xet]` or `pip install hf_xet`\n",
      "Xet Storage is enabled for this repo, but the 'hf_xet' package is not installed. Falling back to regular HTTP download. For better performance, install the package with: `pip install huggingface_hub[hf_xet]` or `pip install hf_xet`\n",
      "WARNING:huggingface_hub.file_download:Xet Storage is enabled for this repo, but the 'hf_xet' package is not installed. Falling back to regular HTTP download. For better performance, install the package with: `pip install huggingface_hub[hf_xet]` or `pip install hf_xet`\n",
      "Xet Storage is enabled for this repo, but the 'hf_xet' package is not installed. Falling back to regular HTTP download. For better performance, install the package with: `pip install huggingface_hub[hf_xet]` or `pip install hf_xet`\n",
      "WARNING:huggingface_hub.file_download:Xet Storage is enabled for this repo, but the 'hf_xet' package is not installed. Falling back to regular HTTP download. For better performance, install the package with: `pip install huggingface_hub[hf_xet]` or `pip install hf_xet`\n",
      "Xet Storage is enabled for this repo, but the 'hf_xet' package is not installed. Falling back to regular HTTP download. For better performance, install the package with: `pip install huggingface_hub[hf_xet]` or `pip install hf_xet`\n",
      "WARNING:huggingface_hub.file_download:Xet Storage is enabled for this repo, but the 'hf_xet' package is not installed. Falling back to regular HTTP download. For better performance, install the package with: `pip install huggingface_hub[hf_xet]` or `pip install hf_xet`\n",
      "Xet Storage is enabled for this repo, but the 'hf_xet' package is not installed. Falling back to regular HTTP download. For better performance, install the package with: `pip install huggingface_hub[hf_xet]` or `pip install hf_xet`\n",
      "WARNING:huggingface_hub.file_download:Xet Storage is enabled for this repo, but the 'hf_xet' package is not installed. Falling back to regular HTTP download. For better performance, install the package with: `pip install huggingface_hub[hf_xet]` or `pip install hf_xet`\n"
     ]
    },
    {
     "output_type": "display_data",
     "data": {
      "text/plain": [
       "model-00001-of-00008.safetensors:   0%|          | 0.00/1.89G [00:00<?, ?B/s]"
      ],
      "application/vnd.jupyter.widget-view+json": {
       "version_major": 2,
       "version_minor": 0,
       "model_id": "5d96868384ab4346ad6390770735e6c8"
      }
     },
     "metadata": {}
    },
    {
     "output_type": "display_data",
     "data": {
      "text/plain": [
       "model-00006-of-00008.safetensors:   0%|          | 0.00/1.95G [00:00<?, ?B/s]"
      ],
      "application/vnd.jupyter.widget-view+json": {
       "version_major": 2,
       "version_minor": 0,
       "model_id": "2bb151376ddc47dda960ca2b28f5b834"
      }
     },
     "metadata": {}
    },
    {
     "output_type": "display_data",
     "data": {
      "text/plain": [
       "model-00008-of-00008.safetensors:   0%|          | 0.00/816M [00:00<?, ?B/s]"
      ],
      "application/vnd.jupyter.widget-view+json": {
       "version_major": 2,
       "version_minor": 0,
       "model_id": "a2df61682b1b403382d8e484a652230e"
      }
     },
     "metadata": {}
    },
    {
     "output_type": "display_data",
     "data": {
      "text/plain": [
       "model-00003-of-00008.safetensors:   0%|          | 0.00/1.98G [00:00<?, ?B/s]"
      ],
      "application/vnd.jupyter.widget-view+json": {
       "version_major": 2,
       "version_minor": 0,
       "model_id": "c09c5d3c23554f579056e12aab60cf25"
      }
     },
     "metadata": {}
    },
    {
     "output_type": "display_data",
     "data": {
      "text/plain": [
       "model-00002-of-00008.safetensors:   0%|          | 0.00/1.95G [00:00<?, ?B/s]"
      ],
      "application/vnd.jupyter.widget-view+json": {
       "version_major": 2,
       "version_minor": 0,
       "model_id": "6a79c8b1df514dd295768dd4da3a0bc7"
      }
     },
     "metadata": {}
    },
    {
     "output_type": "display_data",
     "data": {
      "text/plain": [
       "model-00005-of-00008.safetensors:   0%|          | 0.00/1.98G [00:00<?, ?B/s]"
      ],
      "application/vnd.jupyter.widget-view+json": {
       "version_major": 2,
       "version_minor": 0,
       "model_id": "d8c06edcf99d440db368e424f876a539"
      }
     },
     "metadata": {}
    },
    {
     "output_type": "display_data",
     "data": {
      "text/plain": [
       "model-00004-of-00008.safetensors:   0%|          | 0.00/1.95G [00:00<?, ?B/s]"
      ],
      "application/vnd.jupyter.widget-view+json": {
       "version_major": 2,
       "version_minor": 0,
       "model_id": "a7b8d17b17934685b87d8bb93e2ac114"
      }
     },
     "metadata": {}
    },
    {
     "output_type": "display_data",
     "data": {
      "text/plain": [
       "model-00007-of-00008.safetensors:   0%|          | 0.00/1.98G [00:00<?, ?B/s]"
      ],
      "application/vnd.jupyter.widget-view+json": {
       "version_major": 2,
       "version_minor": 0,
       "model_id": "dac70801e8f4402bba91890f4e6f1406"
      }
     },
     "metadata": {}
    },
    {
     "output_type": "display_data",
     "data": {
      "text/plain": [
       "Loading checkpoint shards:   0%|          | 0/8 [00:00<?, ?it/s]"
      ],
      "application/vnd.jupyter.widget-view+json": {
       "version_major": 2,
       "version_minor": 0,
       "model_id": "2b4fd6209d614c07a0b1b4cc8964cbb3"
      }
     },
     "metadata": {}
    },
    {
     "output_type": "display_data",
     "data": {
      "text/plain": [
       "generation_config.json:   0%|          | 0.00/111 [00:00<?, ?B/s]"
      ],
      "application/vnd.jupyter.widget-view+json": {
       "version_major": 2,
       "version_minor": 0,
       "model_id": "e31cd0749c044bf9a3ffa9d6bbdf1766"
      }
     },
     "metadata": {}
    },
    {
     "output_type": "stream",
     "name": "stderr",
     "text": [
      "Device set to use cpu\n"
     ]
    }
   ]
  },
  {
   "cell_type": "code",
   "source": [
    "def extract_text_from_pdf(pdf_path):\n",
    "    doc = fitz.open(pdf_path)\n",
    "    return \"\\n\".join(page.get_text() for page in doc)"
   ],
   "metadata": {
    "id": "usCeYQysnCXE"
   },
   "execution_count": null,
   "outputs": []
  },
  {
   "cell_type": "code",
   "source": [
    "def split_text(text, chunk_size=500, chunk_overlap=50):\n",
    "    splitter = RecursiveCharacterTextSplitter(chunk_size=chunk_size, chunk_overlap=chunk_overlap)\n",
    "    return splitter.split_text(text)"
   ],
   "metadata": {
    "id": "FWxXb2DHnQDG"
   },
   "execution_count": null,
   "outputs": []
  },
  {
   "cell_type": "code",
   "source": [
    "def build_pdf_qa_index(pdf_path, collection_name=\"pdf_qa\"):\n",
    "    text = extract_text_from_pdf(pdf_path)\n",
    "    chunks = split_text(text)\n",
    "    embeddings = embedding_model.encode(chunks).tolist()\n",
    "\n",
    "    client = chromadb.Client()\n",
    "    collection = client.get_or_create_collection(name=collection_name)\n",
    "\n",
    "    if len(collection.get()[\"ids\"]) == 0:\n",
    "        for i, (chunk, emb) in enumerate(zip(chunks, embeddings)):\n",
    "            collection.add(documents=[chunk], embeddings=[emb], ids=[f\"chunk_{i}\"])\n",
    "\n",
    "    return collection"
   ],
   "metadata": {
    "id": "gI55EQbinRTi"
   },
   "execution_count": null,
   "outputs": []
  },
  {
   "cell_type": "code",
   "source": [
    "def answer_question_with_zephyr(collection, question, top_k=3):\n",
    "    query_emb = embedding_model.encode([question])[0].tolist()\n",
    "    results = collection.query(query_embeddings=[query_emb], n_results=top_k)\n",
    "    context = \" \".join(results[\"documents\"][0])\n",
    "\n",
    "    prompt = f\"<|system|>You are a helpful assistant.</s>\\n<|user|>Context:\\n{context}\\n\\nQuestion: {question}</s>\\n<|assistant|>\"\n",
    "    output = qa_pipeline(prompt, max_new_tokens=256, do_sample=True, temperature=0.5)\n",
    "    return output[0][\"generated_text\"].split(\"<|assistant|>\")[-1].strip()"
   ],
   "metadata": {
    "id": "euKOrYVnnT0e"
   },
   "execution_count": null,
   "outputs": []
  },
  {
   "cell_type": "code",
   "source": [
    "pdf_path = \"/content/offer letter (3).pdf\"\n",
    "collection = build_pdf_qa_index(pdf_path)"
   ],
   "metadata": {
    "id": "tGpW66F8nnk2"
   },
   "execution_count": null,
   "outputs": []
  },
  {
   "cell_type": "code",
   "source": [
    "while True:\n",
    "  question = input(\"\\nAsk a question (or type 'exit'): \")\n",
    "  if question.lower() == \"exit\":\n",
    "    break\n",
    "  answer = answer_question_with_zephyr(collection, question)\n",
    "  print(\"Answer:\", answer)"
   ],
   "metadata": {
    "colab": {
     "base_uri": "https://localhost:8080/"
    },
    "id": "8LUPWoiVoddi",
    "outputId": "9d813342-d066-418a-85dc-c2266327c3ac"
   },
   "execution_count": null,
   "outputs": [
    {
     "name": "stdout",
     "output_type": "stream",
     "text": [
      "\n",
      "Ask a question (or type 'exit'): How much is the food card?\n",
      "Answer: The food card is eligible for a Food Card with an amount of INR 500/- being credited to this card per month.\n",
      "\n",
      "Ask a question (or type 'exit'): exit\n"
     ]
    }
   ]
  }
 ]
}